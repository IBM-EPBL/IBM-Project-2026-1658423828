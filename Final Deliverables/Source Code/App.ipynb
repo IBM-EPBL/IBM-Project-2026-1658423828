{
 "cells": [
  {
   "cell_type": "code",
   "execution_count": null,
   "metadata": {},
   "outputs": [
    {
     "name": "stdout",
     "output_type": "stream",
     "text": [
      " * Serving Flask app \"__main__\" (lazy loading)\n",
      " * Environment: production\n",
      "   WARNING: This is a development server. Do not use it in a production deployment.\n",
      "   Use a production WSGI server instead.\n",
      " * Debug mode: off\n"
     ]
    },
    {
     "name": "stderr",
     "output_type": "stream",
     "text": [
      " * Running on http://127.0.0.1:5000/ (Press CTRL+C to quit)\n",
      "127.0.0.1 - - [22/Nov/2022 10:54:17] \"\u001b[37mGET / HTTP/1.1\u001b[0m\" 200 -\n",
      "127.0.0.1 - - [22/Nov/2022 10:54:29] \"\u001b[37mGET /?username=adhithyaa&password=adhithyaa HTTP/1.1\u001b[0m\" 200 -\n",
      "127.0.0.1 - - [22/Nov/2022 10:56:23] \"\u001b[37mPOST /predict HTTP/1.1\u001b[0m\" 200 -\n",
      "127.0.0.1 - - [22/Nov/2022 11:39:07] \"\u001b[37mGET / HTTP/1.1\u001b[0m\" 200 -\n",
      "127.0.0.1 - - [22/Nov/2022 11:39:25] \"\u001b[37mGET /?username=adhithyaa&password=adhithyaa HTTP/1.1\u001b[0m\" 200 -\n",
      "127.0.0.1 - - [22/Nov/2022 11:41:23] \"\u001b[37mPOST /predict HTTP/1.1\u001b[0m\" 200 -\n",
      "127.0.0.1 - - [22/Nov/2022 11:47:51] \"\u001b[37mGET / HTTP/1.1\u001b[0m\" 200 -\n",
      "127.0.0.1 - - [22/Nov/2022 11:48:22] \"\u001b[37mGET / HTTP/1.1\u001b[0m\" 200 -\n",
      "127.0.0.1 - - [22/Nov/2022 11:53:30] \"\u001b[37mGET / HTTP/1.1\u001b[0m\" 200 -\n",
      "127.0.0.1 - - [22/Nov/2022 11:53:53] \"\u001b[37mGET /?username=adhithyaa&password=adhithyaa HTTP/1.1\u001b[0m\" 200 -\n",
      "127.0.0.1 - - [22/Nov/2022 11:55:45] \"\u001b[37mPOST /predict HTTP/1.1\u001b[0m\" 200 -\n",
      "127.0.0.1 - - [22/Nov/2022 11:56:04] \"\u001b[37mPOST /predict HTTP/1.1\u001b[0m\" 200 -\n"
     ]
    }
   ],
   "source": [
    "import numpy as np\n",
    "import pickle\n",
    "import sklearn\n",
    "from flask import Flask, render_template, request, redirect, url_for, flash\n",
    "import sqlite3\n",
    "model = pickle.load(open('models.pkl', 'rb')) \n",
    "app = Flask(__name__)\n",
    "\n",
    "\n",
    "@app.route('/')\n",
    "def index():\n",
    "    return render_template('Heart_Disease_Classifier.html', title='Home')\n",
    "\n",
    "\n",
    "\n",
    "@app.route('/Heart_Disease_Classifier')\n",
    "def Heart_Disease_Classifier():\n",
    "       return render_template('Heart_Disease_Classifier.html')   \n",
    "\n",
    "@app.route('/predict', methods =['POST'])\n",
    "def predict():\n",
    "  \n",
    "  features = [float(i) for i in request.form.values()]\n",
    "  #Convert features to array\n",
    "  array_features = [np.array(features)]\n",
    "  #Predict features\n",
    "  prediction = model.predict(array_features)\n",
    "  output = prediction\n",
    "  if output == 1:\n",
    "    return render_template('Heart_Disease_Classifier.html', result = 'THE PATIENT IS NOT LIKELY TO HAVE HEART DISEASE!')\n",
    "  else:\n",
    "    return render_template('Diet.html', result = 'THE PATIENT IS LIKELY TO HAVE HEART DISEASE!')\n",
    "\n",
    "if __name__ == '__main__':\n",
    "   app.run(debug=False,port=5000)"
   ]
  },
  {
   "cell_type": "code",
   "execution_count": null,
   "metadata": {},
   "outputs": [],
   "source": []
  }
 ],
 "metadata": {
  "kernelspec": {
   "display_name": "Python 3",
   "language": "python",
   "name": "python3"
  },
  "language_info": {
   "codemirror_mode": {
    "name": "ipython",
    "version": 3
   },
   "file_extension": ".py",
   "mimetype": "text/x-python",
   "name": "python",
   "nbconvert_exporter": "python",
   "pygments_lexer": "ipython3",
   "version": "3.8.5"
  }
 },
 "nbformat": 4,
 "nbformat_minor": 4
}
